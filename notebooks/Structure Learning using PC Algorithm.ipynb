{
 "cells": [
  {
   "cell_type": "markdown",
   "metadata": {},
   "source": [
    "One of the most popular algorithm for Constraint Based Structure Learning is the PC algorithm. The PC algorithm starts with a fully connect undirected graph over all the nodes in the model, and then iteratively removes edges from this graph by finding the minimal conditioning set to d-separate the variables of the edge. The steps can be summerized as:\n",
    "\n",
    "1. Start with a fully connected graph\n",
    "2. Iterate over the edges to find the minimal conditioning set by doing conditional independence tests on the given dataset.\n",
    "3. If a conditining set is found, remove that edge from the model.\n",
    "4. Go back to step 2, until no more conditining set can be found.\n",
    "\n",
    "The PC algorithm has a lot of different variants. _pgmpy_ implements three variants of PC algorithm:\n",
    "1. The original PC algorithm\n",
    "2. Stable PC\n",
    "3. Parallel PC\n",
    "<pre>\n",
    "|                          |           Pros                        |         Cons\n",
    "|  Original PC             | 1. Needs less number of independence  | 1. Results can vary on different runs.\n",
    "|                          |    tests. Hence can be faster.        | 2. Can not be parallelized.\n",
    "|                          |\n",
    "|  Stable PC               | 1. Results are the same on different  | 1. Requires more number of independence\n",
    "|                          |    runs                               |    tests. Hence can be slower.\n",
    "|                          | 2. Parallel implementation possible   | \n",
    "|                          |                                       |\n",
    "| Parallel PC              | 1. Can utilize multiple cores. Hence, | 1. Can be slower for small networks compared\n",
    "|                          |    faster.                            |    to stable PC.\n",
    "|                          | 2. Gives same results over multiple   |\n",
    "                                runs.\n",
    "</pre>"
   ]
  },
  {
   "cell_type": "code",
   "execution_count": null,
   "metadata": {},
   "outputs": [],
   "source": [
    "from pgmpy.estimators import PC\n",
    "\n",
    "estimator = PC(data=data, ci_test='chisq')\n",
    "estimator.estimate(max_conditional_variables=5, variant='parallel', significance_level=0.01, n_jobs=-1)\n",
    "estimator.estimate(max_conditional_variables=5, variant='stable', significance_level=0.01)\n",
    "estimator.estimate(max_conditional_variables=5, variant='orig', significance_level=0.01)"
   ]
  },
  {
   "cell_type": "markdown",
   "metadata": {},
   "source": [
    "The first step is to initialize the estimator class by giving it the dataset and the type of conditional independence test that will be used. Want to use your own CI test? Read the last section. Once, that is done, the estimate method can be called to estimate a DAG structure from the dataset. The variant argument controls which variant of the algorithm will be used. Want to use your own implementation of the learning algorithm? Read the last section. The max_conditional_variables control the maximum number of elements allowed in the conditioning set. This has an effect on the statistical test for independence. For example, chisquare test can become very inaccurate if the number of conditional variables are too high. If the variant being used is `parallel`, you can also specify the number of threads to be run. Since `stable` and `orig` variants run on a single thread, it doesn't need to be specified in that case. "
   ]
  },
  {
   "cell_type": "markdown",
   "metadata": {},
   "source": [
    "## Using custom CI Test"
   ]
  },
  {
   "cell_type": "markdown",
   "metadata": {},
   "source": [
    "The PC class accepts any custom defined CI test. Instead of `ci_test` being a string, a function can be passed there. The function must be in the form of:"
   ]
  },
  {
   "cell_type": "code",
   "execution_count": null,
   "metadata": {},
   "outputs": [],
   "source": [
    "def custom_ci(X, Y, Z, data, **kwargs):\n",
    "    \"\"\"\n",
    "    This function should test whether `X` is independent of `Y` given `Z` in dataset `data`. \n",
    "    Any extra parameters passed to PC will also be available in the kwargs argument here.\n",
    "    \n",
    "    This function must return a tuple of 2 values: 1. The test estimate 2. p-value. The PC implementation\n",
    "    uses p-value > significance_level as that the conditional independence holds in the data.\n",
    "    \"\"\"\n",
    "    # Compute\n",
    "    # return estimate, p-value"
   ]
  },
  {
   "cell_type": "markdown",
   "metadata": {},
   "source": [
    "## Using custom variant of PC\n",
    "\n",
    "As there are a lot of other variants of PC that you might want to use. In that case also the variant argument can accept. ## Think how to do this."
   ]
  },
  {
   "cell_type": "code",
   "execution_count": null,
   "metadata": {},
   "outputs": [],
   "source": []
  }
 ],
 "metadata": {
  "kernelspec": {
   "display_name": "Python 3",
   "language": "python",
   "name": "python3"
  },
  "language_info": {
   "codemirror_mode": {
    "name": "ipython",
    "version": 3
   },
   "file_extension": ".py",
   "mimetype": "text/x-python",
   "name": "python",
   "nbconvert_exporter": "python",
   "pygments_lexer": "ipython3",
   "version": "3.6.10"
  }
 },
 "nbformat": 4,
 "nbformat_minor": 4
}
